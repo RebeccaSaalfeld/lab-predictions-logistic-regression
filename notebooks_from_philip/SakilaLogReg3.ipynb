{
 "cells": [
  {
   "cell_type": "code",
   "execution_count": 345,
   "metadata": {},
   "outputs": [],
   "source": [
    "import pandas as pd\n",
    "import pymysql\n",
    "from sqlalchemy import create_engine\n",
    "import pandas as pd\n",
    "import numpy as np\n",
    "import getpass  # To get the password without showing the input\n",
    "import re\n",
    "from sklearn.preprocessing import MinMaxScaler\n",
    "from sklearn.preprocessing import OneHotEncoder\n",
    "import matplotlib.pyplot as plt\n",
    "import"
   ]
  },
  {
   "cell_type": "code",
   "execution_count": 249,
   "metadata": {},
   "outputs": [
    {
     "name": "stdout",
     "output_type": "stream",
     "text": [
      "········\n"
     ]
    }
   ],
   "source": [
    "password = getpass.getpass()"
   ]
  },
  {
   "cell_type": "markdown",
   "metadata": {},
   "source": [
    "- Create a query or queries to extract the information you think may be relevant for building the prediction model. It should include some film features and some rental features. Use the data from 2005.\n",
    "\n",
    "- Create a query to get the list of films and a boolean indicating if it was rented last month (August 2005). This would be our target variable.\n",
    "\n",
    "- Read the data into a Pandas dataframe.\n",
    "\n",
    "- Analyze extracted features and transform them. You may need to encode some categorical variables, or scale numerical variables.\n",
    "\n",
    "- Create a logistic regression model to predict this variable from the cleaned data.\n",
    "\n",
    "- Evaluate the results."
   ]
  },
  {
   "cell_type": "code",
   "execution_count": 250,
   "metadata": {},
   "outputs": [],
   "source": [
    "connection_string = 'mysql+pymysql://root:' + password + '@localhost/sakila'\n",
    "engine = create_engine(connection_string)"
   ]
  },
  {
   "cell_type": "code",
   "execution_count": 261,
   "metadata": {},
   "outputs": [],
   "source": [
    "film ='''\n",
    "SELECT \n",
    "    t1.customer_id\n",
    "    ,t1.inventory_id\n",
    "    ,t2.film_id\n",
    "    ,t3.title\n",
    "    ,t6.name AS genre\n",
    "    ,t3.length\n",
    "    ,t4.name AS language\n",
    "    ,t3.special_features\n",
    "    ,t3.rating\n",
    "    ,t2.store_id\n",
    "    ,t1.staff_id\n",
    "    ,t3.rental_duration\n",
    "    ,t3.rental_rate\n",
    "    ,t3.replacement_cost\n",
    "    , CASE WHEN t1.rental_date LIKE '2005-05%%' THEN 'True'\n",
    "        ELSE 'False'\n",
    "        END AS 'test'\n",
    "FROM \n",
    "    sakila.rental AS t1\n",
    "INNER JOIN sakila.inventory AS t2 ON t1.inventory_id = t2.inventory_id\n",
    "RIGHT JOIN sakila.film AS t3 ON t2.film_id = t3.film_id\n",
    "INNER JOIN sakila.language AS t4 ON t3.language_id = t4.language_id\n",
    "INNER JOIN sakila.film_category AS t5 ON t3.film_id = t5.film_id\n",
    "INNER JOIN sakila.category AS t6 ON t5.category_id = t6.category_id\n",
    "WHERE\n",
    "    t1.rental_date LIKE '2005%%'\n",
    ";\n",
    "\n",
    "'''\n",
    "dfr = pd.read_sql_query(film, engine)"
   ]
  },
  {
   "cell_type": "code",
   "execution_count": 319,
   "metadata": {},
   "outputs": [],
   "source": [
    "film =  '''\n",
    "SELECT f.film_id, COUNT(r.rental_id) rented_times,f.rental_duration, c.name as category, f.length, f.rating, f.special_features, \n",
    "CASE\n",
    "WHEN r.rental_date BETWEEN '2005-05-01' AND '2005-05-31' THEN True\n",
    "    ELSE False END AS test\n",
    "FROM sakila.film f\n",
    "Left JOIN inventory i\n",
    "\tON f.film_id = i.film_id\n",
    "JOIN sakila.rental r\n",
    "\tON i.inventory_id = r.inventory_id\n",
    "Join sakila.film_category fc\n",
    "\tOn fc.film_id = f.film_id\n",
    "Join sakila.category c\n",
    "\tOn c.category_id = fc.category_id\n",
    "Where r.rental_date Between '2005-01-01' AND '2005-12-31'\n",
    "GROUP BY film_id, rental_duration,category, f.length, f.rating, test, f.special_features; \n",
    "\n",
    "'''\n",
    "\n",
    "\n",
    "dfr = pd.read_sql_query(film, engine)"
   ]
  },
  {
   "cell_type": "code",
   "execution_count": 320,
   "metadata": {},
   "outputs": [
    {
     "data": {
      "text/plain": [
       "0"
      ]
     },
     "execution_count": 320,
     "metadata": {},
     "output_type": "execute_result"
    }
   ],
   "source": [
    "dfr.duplicated().sum()"
   ]
  },
  {
   "cell_type": "code",
   "execution_count": 321,
   "metadata": {},
   "outputs": [
    {
     "name": "stdout",
     "output_type": "stream",
     "text": [
      "<class 'pandas.core.frame.DataFrame'>\n",
      "RangeIndex: 1585 entries, 0 to 1584\n",
      "Data columns (total 8 columns):\n",
      " #   Column            Non-Null Count  Dtype \n",
      "---  ------            --------------  ----- \n",
      " 0   film_id           1585 non-null   int64 \n",
      " 1   rented_times      1585 non-null   int64 \n",
      " 2   rental_duration   1585 non-null   int64 \n",
      " 3   category          1585 non-null   object\n",
      " 4   length            1585 non-null   int64 \n",
      " 5   rating            1585 non-null   object\n",
      " 6   special_features  1585 non-null   object\n",
      " 7   test              1585 non-null   int64 \n",
      "dtypes: int64(5), object(3)\n",
      "memory usage: 99.2+ KB\n"
     ]
    }
   ],
   "source": [
    "dfr.info()"
   ]
  },
  {
   "cell_type": "code",
   "execution_count": 264,
   "metadata": {},
   "outputs": [],
   "source": [
    "dfr = dfr[['customer_id','inventory_id','film_id','title','genre','length','language','special_features','rating','store_id','staff_id','rental_duration','rental_rate','replacement_cost','test']]\n"
   ]
  },
  {
   "cell_type": "code",
   "execution_count": 265,
   "metadata": {},
   "outputs": [
    {
     "name": "stdout",
     "output_type": "stream",
     "text": [
      "<class 'pandas.core.frame.DataFrame'>\n",
      "RangeIndex: 15862 entries, 0 to 15861\n",
      "Data columns (total 15 columns):\n",
      " #   Column            Non-Null Count  Dtype  \n",
      "---  ------            --------------  -----  \n",
      " 0   customer_id       15862 non-null  int64  \n",
      " 1   inventory_id      15862 non-null  int64  \n",
      " 2   film_id           15862 non-null  int64  \n",
      " 3   title             15862 non-null  object \n",
      " 4   genre             15862 non-null  object \n",
      " 5   length            15862 non-null  int64  \n",
      " 6   language          15862 non-null  object \n",
      " 7   special_features  15862 non-null  object \n",
      " 8   rating            15862 non-null  object \n",
      " 9   store_id          15862 non-null  int64  \n",
      " 10  staff_id          15862 non-null  int64  \n",
      " 11  rental_duration   15862 non-null  int64  \n",
      " 12  rental_rate       15862 non-null  float64\n",
      " 13  replacement_cost  15862 non-null  float64\n",
      " 14  test              15862 non-null  object \n",
      "dtypes: float64(2), int64(7), object(6)\n",
      "memory usage: 1.8+ MB\n"
     ]
    }
   ],
   "source": [
    "dfr.info()"
   ]
  },
  {
   "cell_type": "code",
   "execution_count": 266,
   "metadata": {},
   "outputs": [],
   "source": [
    "#dfr = dfr.dropna()"
   ]
  },
  {
   "cell_type": "code",
   "execution_count": 267,
   "metadata": {},
   "outputs": [
    {
     "data": {
      "text/plain": [
       "array(['True', 'False'], dtype=object)"
      ]
     },
     "execution_count": 267,
     "metadata": {},
     "output_type": "execute_result"
    }
   ],
   "source": [
    "dfr['test'].unique()"
   ]
  },
  {
   "cell_type": "code",
   "execution_count": 268,
   "metadata": {},
   "outputs": [
    {
     "data": {
      "text/plain": [
       "Trailers,Commentaries,Behind the Scenes                   1308\n",
       "Trailers                                                  1139\n",
       "Trailers,Commentaries                                     1129\n",
       "Trailers,Behind the Scenes                                1122\n",
       "Behind the Scenes                                         1108\n",
       "Commentaries,Deleted Scenes,Behind the Scenes             1101\n",
       "Commentaries                                              1089\n",
       "Commentaries,Behind the Scenes                            1078\n",
       "Trailers,Deleted Scenes                                   1047\n",
       "Deleted Scenes,Behind the Scenes                          1036\n",
       "Deleted Scenes                                            1023\n",
       "Commentaries,Deleted Scenes                               1011\n",
       "Trailers,Commentaries,Deleted Scenes,Behind the Scenes     983\n",
       "Trailers,Commentaries,Deleted Scenes                       916\n",
       "Trailers,Deleted Scenes,Behind the Scenes                  772\n",
       "Name: special_features, dtype: int64"
      ]
     },
     "execution_count": 268,
     "metadata": {},
     "output_type": "execute_result"
    }
   ],
   "source": [
    "dfr['special_features'].value_counts()"
   ]
  },
  {
   "cell_type": "code",
   "execution_count": 269,
   "metadata": {},
   "outputs": [
    {
     "data": {
      "text/plain": [
       "0"
      ]
     },
     "execution_count": 269,
     "metadata": {},
     "output_type": "execute_result"
    }
   ],
   "source": [
    "dfr.duplicated().sum()"
   ]
  },
  {
   "cell_type": "code",
   "execution_count": 322,
   "metadata": {},
   "outputs": [],
   "source": [
    "\n",
    "la = []\n",
    "lb = []\n",
    "lc = []\n",
    "ld = []\n",
    "\n",
    "for i in dfr['special_features']:\n",
    "        if re.findall('Trailers', i):\n",
    "            la.append(1)\n",
    "        else:\n",
    "            la.append(0)\n",
    "dfr['trailers'] = la\n",
    "\n",
    "for i in dfr['special_features']:\n",
    "        if re.findall('Behind the Scenes', i):\n",
    "            lb.append(1)\n",
    "        else:\n",
    "            lb.append(0)\n",
    "dfr['behind the scenes'] = lb            \n",
    "\n",
    "            \n",
    "for i in dfr['special_features']:\n",
    "        if re.findall('Commentaries', i):\n",
    "            lc.append(1)\n",
    "        else:\n",
    "            lc.append(0)\n",
    "dfr['commentaries'] = lc\n",
    "            \n",
    "            \n",
    "for i in dfr['special_features']:\n",
    "        if re.findall('Deleted Scenes', i):\n",
    "            ld.append(1)\n",
    "        else:\n",
    "            ld.append(0)\n",
    "dfr['deleted scenes'] = lc\n",
    "\n",
    "dfr = dfr.drop(['special_features'], axis=1)\n"
   ]
  },
  {
   "cell_type": "code",
   "execution_count": 271,
   "metadata": {},
   "outputs": [
    {
     "data": {
      "text/plain": [
       "0"
      ]
     },
     "execution_count": 271,
     "metadata": {},
     "output_type": "execute_result"
    }
   ],
   "source": [
    "dfr.duplicated().sum()"
   ]
  },
  {
   "cell_type": "code",
   "execution_count": 323,
   "metadata": {},
   "outputs": [
    {
     "data": {
      "text/html": [
       "<div>\n",
       "<style scoped>\n",
       "    .dataframe tbody tr th:only-of-type {\n",
       "        vertical-align: middle;\n",
       "    }\n",
       "\n",
       "    .dataframe tbody tr th {\n",
       "        vertical-align: top;\n",
       "    }\n",
       "\n",
       "    .dataframe thead th {\n",
       "        text-align: right;\n",
       "    }\n",
       "</style>\n",
       "<table border=\"1\" class=\"dataframe\">\n",
       "  <thead>\n",
       "    <tr style=\"text-align: right;\">\n",
       "      <th></th>\n",
       "      <th>film_id</th>\n",
       "      <th>rented_times</th>\n",
       "      <th>rental_duration</th>\n",
       "      <th>category</th>\n",
       "      <th>length</th>\n",
       "      <th>rating</th>\n",
       "      <th>test</th>\n",
       "      <th>trailers</th>\n",
       "      <th>behind the scenes</th>\n",
       "      <th>commentaries</th>\n",
       "      <th>deleted scenes</th>\n",
       "    </tr>\n",
       "  </thead>\n",
       "  <tbody>\n",
       "    <tr>\n",
       "      <th>0</th>\n",
       "      <td>19</td>\n",
       "      <td>19</td>\n",
       "      <td>6</td>\n",
       "      <td>Action</td>\n",
       "      <td>113</td>\n",
       "      <td>PG</td>\n",
       "      <td>0</td>\n",
       "      <td>0</td>\n",
       "      <td>1</td>\n",
       "      <td>1</td>\n",
       "      <td>1</td>\n",
       "    </tr>\n",
       "    <tr>\n",
       "      <th>1</th>\n",
       "      <td>19</td>\n",
       "      <td>1</td>\n",
       "      <td>6</td>\n",
       "      <td>Action</td>\n",
       "      <td>113</td>\n",
       "      <td>PG</td>\n",
       "      <td>1</td>\n",
       "      <td>0</td>\n",
       "      <td>1</td>\n",
       "      <td>1</td>\n",
       "      <td>1</td>\n",
       "    </tr>\n",
       "    <tr>\n",
       "      <th>2</th>\n",
       "      <td>21</td>\n",
       "      <td>2</td>\n",
       "      <td>3</td>\n",
       "      <td>Action</td>\n",
       "      <td>129</td>\n",
       "      <td>R</td>\n",
       "      <td>1</td>\n",
       "      <td>0</td>\n",
       "      <td>1</td>\n",
       "      <td>1</td>\n",
       "      <td>1</td>\n",
       "    </tr>\n",
       "    <tr>\n",
       "      <th>3</th>\n",
       "      <td>21</td>\n",
       "      <td>19</td>\n",
       "      <td>3</td>\n",
       "      <td>Action</td>\n",
       "      <td>129</td>\n",
       "      <td>R</td>\n",
       "      <td>0</td>\n",
       "      <td>0</td>\n",
       "      <td>1</td>\n",
       "      <td>1</td>\n",
       "      <td>1</td>\n",
       "    </tr>\n",
       "    <tr>\n",
       "      <th>4</th>\n",
       "      <td>29</td>\n",
       "      <td>10</td>\n",
       "      <td>5</td>\n",
       "      <td>Action</td>\n",
       "      <td>168</td>\n",
       "      <td>NC-17</td>\n",
       "      <td>0</td>\n",
       "      <td>1</td>\n",
       "      <td>0</td>\n",
       "      <td>1</td>\n",
       "      <td>1</td>\n",
       "    </tr>\n",
       "    <tr>\n",
       "      <th>...</th>\n",
       "      <td>...</td>\n",
       "      <td>...</td>\n",
       "      <td>...</td>\n",
       "      <td>...</td>\n",
       "      <td>...</td>\n",
       "      <td>...</td>\n",
       "      <td>...</td>\n",
       "      <td>...</td>\n",
       "      <td>...</td>\n",
       "      <td>...</td>\n",
       "      <td>...</td>\n",
       "    </tr>\n",
       "    <tr>\n",
       "      <th>1580</th>\n",
       "      <td>977</td>\n",
       "      <td>11</td>\n",
       "      <td>3</td>\n",
       "      <td>Travel</td>\n",
       "      <td>85</td>\n",
       "      <td>R</td>\n",
       "      <td>0</td>\n",
       "      <td>0</td>\n",
       "      <td>1</td>\n",
       "      <td>0</td>\n",
       "      <td>0</td>\n",
       "    </tr>\n",
       "    <tr>\n",
       "      <th>1581</th>\n",
       "      <td>981</td>\n",
       "      <td>21</td>\n",
       "      <td>7</td>\n",
       "      <td>Travel</td>\n",
       "      <td>55</td>\n",
       "      <td>NC-17</td>\n",
       "      <td>0</td>\n",
       "      <td>0</td>\n",
       "      <td>1</td>\n",
       "      <td>0</td>\n",
       "      <td>0</td>\n",
       "    </tr>\n",
       "    <tr>\n",
       "      <th>1582</th>\n",
       "      <td>988</td>\n",
       "      <td>15</td>\n",
       "      <td>7</td>\n",
       "      <td>Travel</td>\n",
       "      <td>139</td>\n",
       "      <td>R</td>\n",
       "      <td>0</td>\n",
       "      <td>1</td>\n",
       "      <td>1</td>\n",
       "      <td>1</td>\n",
       "      <td>1</td>\n",
       "    </tr>\n",
       "    <tr>\n",
       "      <th>1583</th>\n",
       "      <td>989</td>\n",
       "      <td>23</td>\n",
       "      <td>4</td>\n",
       "      <td>Travel</td>\n",
       "      <td>74</td>\n",
       "      <td>R</td>\n",
       "      <td>0</td>\n",
       "      <td>0</td>\n",
       "      <td>0</td>\n",
       "      <td>1</td>\n",
       "      <td>1</td>\n",
       "    </tr>\n",
       "    <tr>\n",
       "      <th>1584</th>\n",
       "      <td>989</td>\n",
       "      <td>2</td>\n",
       "      <td>4</td>\n",
       "      <td>Travel</td>\n",
       "      <td>74</td>\n",
       "      <td>R</td>\n",
       "      <td>1</td>\n",
       "      <td>0</td>\n",
       "      <td>0</td>\n",
       "      <td>1</td>\n",
       "      <td>1</td>\n",
       "    </tr>\n",
       "  </tbody>\n",
       "</table>\n",
       "<p>1585 rows × 11 columns</p>\n",
       "</div>"
      ],
      "text/plain": [
       "      film_id  rented_times  rental_duration category  length rating  test  \\\n",
       "0          19            19                6   Action     113     PG     0   \n",
       "1          19             1                6   Action     113     PG     1   \n",
       "2          21             2                3   Action     129      R     1   \n",
       "3          21            19                3   Action     129      R     0   \n",
       "4          29            10                5   Action     168  NC-17     0   \n",
       "...       ...           ...              ...      ...     ...    ...   ...   \n",
       "1580      977            11                3   Travel      85      R     0   \n",
       "1581      981            21                7   Travel      55  NC-17     0   \n",
       "1582      988            15                7   Travel     139      R     0   \n",
       "1583      989            23                4   Travel      74      R     0   \n",
       "1584      989             2                4   Travel      74      R     1   \n",
       "\n",
       "      trailers  behind the scenes  commentaries  deleted scenes  \n",
       "0            0                  1             1               1  \n",
       "1            0                  1             1               1  \n",
       "2            0                  1             1               1  \n",
       "3            0                  1             1               1  \n",
       "4            1                  0             1               1  \n",
       "...        ...                ...           ...             ...  \n",
       "1580         0                  1             0               0  \n",
       "1581         0                  1             0               0  \n",
       "1582         1                  1             1               1  \n",
       "1583         0                  0             1               1  \n",
       "1584         0                  0             1               1  \n",
       "\n",
       "[1585 rows x 11 columns]"
      ]
     },
     "execution_count": 323,
     "metadata": {},
     "output_type": "execute_result"
    }
   ],
   "source": [
    "dfr"
   ]
  },
  {
   "cell_type": "code",
   "execution_count": 273,
   "metadata": {},
   "outputs": [],
   "source": [
    "dfr = dfr[['film_id','genre','length','language','rating','rental_duration','rental_rate','test','trailers','behind the scenes','commentaries','deleted scenes']]\n"
   ]
  },
  {
   "cell_type": "code",
   "execution_count": 274,
   "metadata": {},
   "outputs": [],
   "source": [
    "#dfr.info()\n",
    "#dfr = dfr.drop_duplicates()\n"
   ]
  },
  {
   "cell_type": "code",
   "execution_count": 324,
   "metadata": {},
   "outputs": [],
   "source": [
    "dfr['film_id'] = dfr['film_id'].astype(object)\n",
    "dfr['rental_duration'] = dfr['rental_duration'].astype(object)\n",
    "dfr['test'] = dfr['test'].astype(bool)\n",
    "#dfr['rental_rate'] = dfr['rental_rate'].astype(object)\n",
    "#dfr['trailers'] = dfr['trailers'].astype(bool)\n",
    "#dfr['behind the scenes'] = dfr['behind the scenes'].astype(bool)\n",
    "#dfr['commentaries'] = dfr['commentaries'].astype(bool)\n",
    "#dfr['deleted scenes'] = dfr['deleted scenes'].astype(bool)\n"
   ]
  },
  {
   "cell_type": "code",
   "execution_count": 325,
   "metadata": {},
   "outputs": [],
   "source": [
    "y = dfr['test']\n",
    "X = dfr.drop('test', axis=1)\n",
    "from sklearn.model_selection import train_test_split\n",
    "X_train, X_test, y_train, y_test = train_test_split(X, y, test_size=0.2, random_state=1337)"
   ]
  },
  {
   "cell_type": "code",
   "execution_count": 326,
   "metadata": {},
   "outputs": [],
   "source": [
    "import numpy as np\n",
    "from sklearn.preprocessing import MinMaxScaler\n",
    "# from sklearn.preprocessing import StandardScaler\n",
    "\n",
    "X_train_num = X_train.select_dtypes(include = np.number)\n",
    "\n",
    "# Scaling data\n",
    "transformer = MinMaxScaler().fit(X_train_num) # need to keep transformer\n",
    "X_train_normalized = transformer.transform(X_train_num)\n",
    "X_train_norm = pd.DataFrame(X_train_normalized)"
   ]
  },
  {
   "cell_type": "code",
   "execution_count": 327,
   "metadata": {},
   "outputs": [
    {
     "data": {
      "text/html": [
       "<div>\n",
       "<style scoped>\n",
       "    .dataframe tbody tr th:only-of-type {\n",
       "        vertical-align: middle;\n",
       "    }\n",
       "\n",
       "    .dataframe tbody tr th {\n",
       "        vertical-align: top;\n",
       "    }\n",
       "\n",
       "    .dataframe thead th {\n",
       "        text-align: right;\n",
       "    }\n",
       "</style>\n",
       "<table border=\"1\" class=\"dataframe\">\n",
       "  <thead>\n",
       "    <tr style=\"text-align: right;\">\n",
       "      <th></th>\n",
       "      <th>rented_times</th>\n",
       "      <th>length</th>\n",
       "      <th>trailers</th>\n",
       "      <th>behind the scenes</th>\n",
       "      <th>commentaries</th>\n",
       "      <th>deleted scenes</th>\n",
       "    </tr>\n",
       "  </thead>\n",
       "  <tbody>\n",
       "    <tr>\n",
       "      <th>0</th>\n",
       "      <td>0.862069</td>\n",
       "      <td>0.841727</td>\n",
       "      <td>1.0</td>\n",
       "      <td>1.0</td>\n",
       "      <td>0.0</td>\n",
       "      <td>0.0</td>\n",
       "    </tr>\n",
       "    <tr>\n",
       "      <th>1</th>\n",
       "      <td>0.689655</td>\n",
       "      <td>0.100719</td>\n",
       "      <td>0.0</td>\n",
       "      <td>1.0</td>\n",
       "      <td>1.0</td>\n",
       "      <td>1.0</td>\n",
       "    </tr>\n",
       "    <tr>\n",
       "      <th>2</th>\n",
       "      <td>0.689655</td>\n",
       "      <td>0.841727</td>\n",
       "      <td>1.0</td>\n",
       "      <td>1.0</td>\n",
       "      <td>1.0</td>\n",
       "      <td>1.0</td>\n",
       "    </tr>\n",
       "    <tr>\n",
       "      <th>3</th>\n",
       "      <td>0.241379</td>\n",
       "      <td>0.258993</td>\n",
       "      <td>1.0</td>\n",
       "      <td>1.0</td>\n",
       "      <td>0.0</td>\n",
       "      <td>0.0</td>\n",
       "    </tr>\n",
       "    <tr>\n",
       "      <th>4</th>\n",
       "      <td>0.000000</td>\n",
       "      <td>0.273381</td>\n",
       "      <td>0.0</td>\n",
       "      <td>1.0</td>\n",
       "      <td>1.0</td>\n",
       "      <td>1.0</td>\n",
       "    </tr>\n",
       "  </tbody>\n",
       "</table>\n",
       "</div>"
      ],
      "text/plain": [
       "   rented_times    length  trailers  behind the scenes  commentaries  \\\n",
       "0      0.862069  0.841727       1.0                1.0           0.0   \n",
       "1      0.689655  0.100719       0.0                1.0           1.0   \n",
       "2      0.689655  0.841727       1.0                1.0           1.0   \n",
       "3      0.241379  0.258993       1.0                1.0           0.0   \n",
       "4      0.000000  0.273381       0.0                1.0           1.0   \n",
       "\n",
       "   deleted scenes  \n",
       "0             0.0  \n",
       "1             1.0  \n",
       "2             1.0  \n",
       "3             0.0  \n",
       "4             1.0  "
      ]
     },
     "execution_count": 327,
     "metadata": {},
     "output_type": "execute_result"
    }
   ],
   "source": [
    "X_train_norm.columns = X_train_num.columns\n",
    "X_train_norm.head()"
   ]
  },
  {
   "cell_type": "code",
   "execution_count": 328,
   "metadata": {},
   "outputs": [
    {
     "name": "stderr",
     "output_type": "stream",
     "text": [
      "/var/folders/sm/8s2c1j894rq6v788yfhxt27r0000gn/T/ipykernel_5696/919404641.py:1: DeprecationWarning: `np.object` is a deprecated alias for the builtin `object`. To silence this warning, use `object` by itself. Doing this will not modify any behavior and is safe. \n",
      "Deprecated in NumPy 1.20; for more details and guidance: https://numpy.org/devdocs/release/1.20.0-notes.html#deprecations\n",
      "  X_train_cat = X_train.select_dtypes(include = np.object)\n"
     ]
    }
   ],
   "source": [
    "X_train_cat = X_train.select_dtypes(include = np.object)\n",
    "\n"
   ]
  },
  {
   "cell_type": "code",
   "execution_count": 329,
   "metadata": {},
   "outputs": [
    {
     "data": {
      "text/html": [
       "<div>\n",
       "<style scoped>\n",
       "    .dataframe tbody tr th:only-of-type {\n",
       "        vertical-align: middle;\n",
       "    }\n",
       "\n",
       "    .dataframe tbody tr th {\n",
       "        vertical-align: top;\n",
       "    }\n",
       "\n",
       "    .dataframe thead th {\n",
       "        text-align: right;\n",
       "    }\n",
       "</style>\n",
       "<table border=\"1\" class=\"dataframe\">\n",
       "  <thead>\n",
       "    <tr style=\"text-align: right;\">\n",
       "      <th></th>\n",
       "      <th>film_id</th>\n",
       "      <th>rental_duration</th>\n",
       "      <th>category</th>\n",
       "      <th>rating</th>\n",
       "    </tr>\n",
       "  </thead>\n",
       "  <tbody>\n",
       "    <tr>\n",
       "      <th>89</th>\n",
       "      <td>850</td>\n",
       "      <td>7</td>\n",
       "      <td>Action</td>\n",
       "      <td>R</td>\n",
       "    </tr>\n",
       "    <tr>\n",
       "      <th>1480</th>\n",
       "      <td>782</td>\n",
       "      <td>6</td>\n",
       "      <td>Sports</td>\n",
       "      <td>PG-13</td>\n",
       "    </tr>\n",
       "    <tr>\n",
       "      <th>876</th>\n",
       "      <td>500</td>\n",
       "      <td>5</td>\n",
       "      <td>Foreign</td>\n",
       "      <td>PG-13</td>\n",
       "    </tr>\n",
       "    <tr>\n",
       "      <th>1031</th>\n",
       "      <td>30</td>\n",
       "      <td>4</td>\n",
       "      <td>Horror</td>\n",
       "      <td>R</td>\n",
       "    </tr>\n",
       "    <tr>\n",
       "      <th>675</th>\n",
       "      <td>766</td>\n",
       "      <td>5</td>\n",
       "      <td>Drama</td>\n",
       "      <td>PG-13</td>\n",
       "    </tr>\n",
       "    <tr>\n",
       "      <th>...</th>\n",
       "      <td>...</td>\n",
       "      <td>...</td>\n",
       "      <td>...</td>\n",
       "      <td>...</td>\n",
       "    </tr>\n",
       "    <tr>\n",
       "      <th>1191</th>\n",
       "      <td>22</td>\n",
       "      <td>6</td>\n",
       "      <td>New</td>\n",
       "      <td>G</td>\n",
       "    </tr>\n",
       "    <tr>\n",
       "      <th>1256</th>\n",
       "      <td>686</td>\n",
       "      <td>5</td>\n",
       "      <td>New</td>\n",
       "      <td>R</td>\n",
       "    </tr>\n",
       "    <tr>\n",
       "      <th>860</th>\n",
       "      <td>431</td>\n",
       "      <td>3</td>\n",
       "      <td>Foreign</td>\n",
       "      <td>G</td>\n",
       "    </tr>\n",
       "    <tr>\n",
       "      <th>189</th>\n",
       "      <td>805</td>\n",
       "      <td>5</td>\n",
       "      <td>Animation</td>\n",
       "      <td>G</td>\n",
       "    </tr>\n",
       "    <tr>\n",
       "      <th>1175</th>\n",
       "      <td>797</td>\n",
       "      <td>7</td>\n",
       "      <td>Music</td>\n",
       "      <td>R</td>\n",
       "    </tr>\n",
       "  </tbody>\n",
       "</table>\n",
       "<p>1268 rows × 4 columns</p>\n",
       "</div>"
      ],
      "text/plain": [
       "     film_id rental_duration   category rating\n",
       "89       850               7     Action      R\n",
       "1480     782               6     Sports  PG-13\n",
       "876      500               5    Foreign  PG-13\n",
       "1031      30               4     Horror      R\n",
       "675      766               5      Drama  PG-13\n",
       "...      ...             ...        ...    ...\n",
       "1191      22               6        New      G\n",
       "1256     686               5        New      R\n",
       "860      431               3    Foreign      G\n",
       "189      805               5  Animation      G\n",
       "1175     797               7      Music      R\n",
       "\n",
       "[1268 rows x 4 columns]"
      ]
     },
     "execution_count": 329,
     "metadata": {},
     "output_type": "execute_result"
    }
   ],
   "source": [
    "X_train_cat"
   ]
  },
  {
   "cell_type": "code",
   "execution_count": 330,
   "metadata": {},
   "outputs": [
    {
     "name": "stderr",
     "output_type": "stream",
     "text": [
      "/var/folders/sm/8s2c1j894rq6v788yfhxt27r0000gn/T/ipykernel_5696/1381724978.py:1: DeprecationWarning: `np.object` is a deprecated alias for the builtin `object`. To silence this warning, use `object` by itself. Doing this will not modify any behavior and is safe. \n",
      "Deprecated in NumPy 1.20; for more details and guidance: https://numpy.org/devdocs/release/1.20.0-notes.html#deprecations\n",
      "  X_train_categorical = X_train.select_dtypes(include = np.object)\n"
     ]
    },
    {
     "data": {
      "text/html": [
       "<div>\n",
       "<style scoped>\n",
       "    .dataframe tbody tr th:only-of-type {\n",
       "        vertical-align: middle;\n",
       "    }\n",
       "\n",
       "    .dataframe tbody tr th {\n",
       "        vertical-align: top;\n",
       "    }\n",
       "\n",
       "    .dataframe thead th {\n",
       "        text-align: right;\n",
       "    }\n",
       "</style>\n",
       "<table border=\"1\" class=\"dataframe\">\n",
       "  <thead>\n",
       "    <tr style=\"text-align: right;\">\n",
       "      <th></th>\n",
       "      <th>film_id</th>\n",
       "      <th>category_Animation</th>\n",
       "      <th>category_Children</th>\n",
       "      <th>category_Classics</th>\n",
       "      <th>category_Comedy</th>\n",
       "      <th>category_Documentary</th>\n",
       "      <th>category_Drama</th>\n",
       "      <th>category_Family</th>\n",
       "      <th>category_Foreign</th>\n",
       "      <th>category_Games</th>\n",
       "      <th>...</th>\n",
       "      <th>category_Sports</th>\n",
       "      <th>category_Travel</th>\n",
       "      <th>rating_NC-17</th>\n",
       "      <th>rating_PG</th>\n",
       "      <th>rating_PG-13</th>\n",
       "      <th>rating_R</th>\n",
       "      <th>rental_duration_4</th>\n",
       "      <th>rental_duration_5</th>\n",
       "      <th>rental_duration_6</th>\n",
       "      <th>rental_duration_7</th>\n",
       "    </tr>\n",
       "  </thead>\n",
       "  <tbody>\n",
       "    <tr>\n",
       "      <th>89</th>\n",
       "      <td>850</td>\n",
       "      <td>0</td>\n",
       "      <td>0</td>\n",
       "      <td>0</td>\n",
       "      <td>0</td>\n",
       "      <td>0</td>\n",
       "      <td>0</td>\n",
       "      <td>0</td>\n",
       "      <td>0</td>\n",
       "      <td>0</td>\n",
       "      <td>...</td>\n",
       "      <td>0</td>\n",
       "      <td>0</td>\n",
       "      <td>0</td>\n",
       "      <td>0</td>\n",
       "      <td>0</td>\n",
       "      <td>1</td>\n",
       "      <td>0</td>\n",
       "      <td>0</td>\n",
       "      <td>0</td>\n",
       "      <td>1</td>\n",
       "    </tr>\n",
       "    <tr>\n",
       "      <th>1480</th>\n",
       "      <td>782</td>\n",
       "      <td>0</td>\n",
       "      <td>0</td>\n",
       "      <td>0</td>\n",
       "      <td>0</td>\n",
       "      <td>0</td>\n",
       "      <td>0</td>\n",
       "      <td>0</td>\n",
       "      <td>0</td>\n",
       "      <td>0</td>\n",
       "      <td>...</td>\n",
       "      <td>1</td>\n",
       "      <td>0</td>\n",
       "      <td>0</td>\n",
       "      <td>0</td>\n",
       "      <td>1</td>\n",
       "      <td>0</td>\n",
       "      <td>0</td>\n",
       "      <td>0</td>\n",
       "      <td>1</td>\n",
       "      <td>0</td>\n",
       "    </tr>\n",
       "    <tr>\n",
       "      <th>876</th>\n",
       "      <td>500</td>\n",
       "      <td>0</td>\n",
       "      <td>0</td>\n",
       "      <td>0</td>\n",
       "      <td>0</td>\n",
       "      <td>0</td>\n",
       "      <td>0</td>\n",
       "      <td>0</td>\n",
       "      <td>1</td>\n",
       "      <td>0</td>\n",
       "      <td>...</td>\n",
       "      <td>0</td>\n",
       "      <td>0</td>\n",
       "      <td>0</td>\n",
       "      <td>0</td>\n",
       "      <td>1</td>\n",
       "      <td>0</td>\n",
       "      <td>0</td>\n",
       "      <td>1</td>\n",
       "      <td>0</td>\n",
       "      <td>0</td>\n",
       "    </tr>\n",
       "    <tr>\n",
       "      <th>1031</th>\n",
       "      <td>30</td>\n",
       "      <td>0</td>\n",
       "      <td>0</td>\n",
       "      <td>0</td>\n",
       "      <td>0</td>\n",
       "      <td>0</td>\n",
       "      <td>0</td>\n",
       "      <td>0</td>\n",
       "      <td>0</td>\n",
       "      <td>0</td>\n",
       "      <td>...</td>\n",
       "      <td>0</td>\n",
       "      <td>0</td>\n",
       "      <td>0</td>\n",
       "      <td>0</td>\n",
       "      <td>0</td>\n",
       "      <td>1</td>\n",
       "      <td>1</td>\n",
       "      <td>0</td>\n",
       "      <td>0</td>\n",
       "      <td>0</td>\n",
       "    </tr>\n",
       "    <tr>\n",
       "      <th>675</th>\n",
       "      <td>766</td>\n",
       "      <td>0</td>\n",
       "      <td>0</td>\n",
       "      <td>0</td>\n",
       "      <td>0</td>\n",
       "      <td>0</td>\n",
       "      <td>1</td>\n",
       "      <td>0</td>\n",
       "      <td>0</td>\n",
       "      <td>0</td>\n",
       "      <td>...</td>\n",
       "      <td>0</td>\n",
       "      <td>0</td>\n",
       "      <td>0</td>\n",
       "      <td>0</td>\n",
       "      <td>1</td>\n",
       "      <td>0</td>\n",
       "      <td>0</td>\n",
       "      <td>1</td>\n",
       "      <td>0</td>\n",
       "      <td>0</td>\n",
       "    </tr>\n",
       "  </tbody>\n",
       "</table>\n",
       "<p>5 rows × 24 columns</p>\n",
       "</div>"
      ],
      "text/plain": [
       "     film_id  category_Animation  category_Children  category_Classics  \\\n",
       "89       850                   0                  0                  0   \n",
       "1480     782                   0                  0                  0   \n",
       "876      500                   0                  0                  0   \n",
       "1031      30                   0                  0                  0   \n",
       "675      766                   0                  0                  0   \n",
       "\n",
       "      category_Comedy  category_Documentary  category_Drama  category_Family  \\\n",
       "89                  0                     0               0                0   \n",
       "1480                0                     0               0                0   \n",
       "876                 0                     0               0                0   \n",
       "1031                0                     0               0                0   \n",
       "675                 0                     0               1                0   \n",
       "\n",
       "      category_Foreign  category_Games  ...  category_Sports  category_Travel  \\\n",
       "89                   0               0  ...                0                0   \n",
       "1480                 0               0  ...                1                0   \n",
       "876                  1               0  ...                0                0   \n",
       "1031                 0               0  ...                0                0   \n",
       "675                  0               0  ...                0                0   \n",
       "\n",
       "      rating_NC-17  rating_PG  rating_PG-13  rating_R  rental_duration_4  \\\n",
       "89               0          0             0         1                  0   \n",
       "1480             0          0             1         0                  0   \n",
       "876              0          0             1         0                  0   \n",
       "1031             0          0             0         1                  1   \n",
       "675              0          0             1         0                  0   \n",
       "\n",
       "      rental_duration_5  rental_duration_6  rental_duration_7  \n",
       "89                    0                  0                  1  \n",
       "1480                  0                  1                  0  \n",
       "876                   1                  0                  0  \n",
       "1031                  0                  0                  0  \n",
       "675                   1                  0                  0  \n",
       "\n",
       "[5 rows x 24 columns]"
      ]
     },
     "execution_count": 330,
     "metadata": {},
     "output_type": "execute_result"
    }
   ],
   "source": [
    "X_train_categorical = X_train.select_dtypes(include = np.object)\n",
    "X_train_cat = pd.get_dummies(X_train_categorical, \n",
    "                             columns=['category', 'rating','rental_duration'],\n",
    "                             drop_first=True)\n",
    "X_train_cat.head()"
   ]
  },
  {
   "cell_type": "code",
   "execution_count": 331,
   "metadata": {},
   "outputs": [],
   "source": [
    "X_train_transformed = np.concatenate([X_train_norm, X_train_cat], axis=1)"
   ]
  },
  {
   "cell_type": "code",
   "execution_count": 332,
   "metadata": {},
   "outputs": [
    {
     "name": "stderr",
     "output_type": "stream",
     "text": [
      "/opt/anaconda3/lib/python3.9/site-packages/sklearn/linear_model/_logistic.py:763: ConvergenceWarning: lbfgs failed to converge (status=1):\n",
      "STOP: TOTAL NO. of ITERATIONS REACHED LIMIT.\n",
      "\n",
      "Increase the number of iterations (max_iter) or scale the data as shown in:\n",
      "    https://scikit-learn.org/stable/modules/preprocessing.html\n",
      "Please also refer to the documentation for alternative solver options:\n",
      "    https://scikit-learn.org/stable/modules/linear_model.html#logistic-regression\n",
      "  n_iter_i = _check_optimize_result(\n"
     ]
    }
   ],
   "source": [
    "from sklearn.linear_model import LogisticRegression\n",
    "classification = LogisticRegression(random_state=0, solver='lbfgs',\n",
    "                  multi_class='multinomial').fit(X_train_transformed, y_train)"
   ]
  },
  {
   "cell_type": "code",
   "execution_count": 333,
   "metadata": {},
   "outputs": [],
   "source": [
    "# for numericals\n",
    "X_test_num = X_test.select_dtypes(include = np.number)\n",
    "\n",
    "# Scaling data\n",
    "# we use the transformer that was trained on the training data\n",
    "X_test_normalized = transformer.transform(X_test_num)\n",
    "X_test_norm = pd.DataFrame(X_test_normalized)"
   ]
  },
  {
   "cell_type": "code",
   "execution_count": 334,
   "metadata": {},
   "outputs": [
    {
     "name": "stderr",
     "output_type": "stream",
     "text": [
      "/var/folders/sm/8s2c1j894rq6v788yfhxt27r0000gn/T/ipykernel_5696/1863834073.py:2: DeprecationWarning: `np.object` is a deprecated alias for the builtin `object`. To silence this warning, use `object` by itself. Doing this will not modify any behavior and is safe. \n",
      "Deprecated in NumPy 1.20; for more details and guidance: https://numpy.org/devdocs/release/1.20.0-notes.html#deprecations\n",
      "  X_test_categorical = X_test.select_dtypes(include = np.object)\n"
     ]
    },
    {
     "data": {
      "text/plain": [
       "[('film_id', 'film_id'),\n",
       " ('category_Animation', 'category_Animation'),\n",
       " ('category_Children', 'category_Children'),\n",
       " ('category_Classics', 'category_Classics'),\n",
       " ('category_Comedy', 'category_Comedy'),\n",
       " ('category_Documentary', 'category_Documentary'),\n",
       " ('category_Drama', 'category_Drama'),\n",
       " ('category_Family', 'category_Family'),\n",
       " ('category_Foreign', 'category_Foreign'),\n",
       " ('category_Games', 'category_Games'),\n",
       " ('category_Horror', 'category_Horror'),\n",
       " ('category_Music', 'category_Music'),\n",
       " ('category_New', 'category_New'),\n",
       " ('category_Sci-Fi', 'category_Sci-Fi'),\n",
       " ('category_Sports', 'category_Sports'),\n",
       " ('category_Travel', 'category_Travel'),\n",
       " ('rating_NC-17', 'rating_NC-17'),\n",
       " ('rating_PG', 'rating_PG'),\n",
       " ('rating_PG-13', 'rating_PG-13'),\n",
       " ('rating_R', 'rating_R'),\n",
       " ('rental_duration_4', 'rental_duration_4'),\n",
       " ('rental_duration_5', 'rental_duration_5'),\n",
       " ('rental_duration_6', 'rental_duration_6'),\n",
       " ('rental_duration_7', 'rental_duration_7')]"
      ]
     },
     "metadata": {},
     "output_type": "display_data"
    },
    {
     "data": {
      "text/html": [
       "<div>\n",
       "<style scoped>\n",
       "    .dataframe tbody tr th:only-of-type {\n",
       "        vertical-align: middle;\n",
       "    }\n",
       "\n",
       "    .dataframe tbody tr th {\n",
       "        vertical-align: top;\n",
       "    }\n",
       "\n",
       "    .dataframe thead th {\n",
       "        text-align: right;\n",
       "    }\n",
       "</style>\n",
       "<table border=\"1\" class=\"dataframe\">\n",
       "  <thead>\n",
       "    <tr style=\"text-align: right;\">\n",
       "      <th></th>\n",
       "      <th>film_id</th>\n",
       "      <th>category_Animation</th>\n",
       "      <th>category_Children</th>\n",
       "      <th>category_Classics</th>\n",
       "      <th>category_Comedy</th>\n",
       "      <th>category_Documentary</th>\n",
       "      <th>category_Drama</th>\n",
       "      <th>category_Family</th>\n",
       "      <th>category_Foreign</th>\n",
       "      <th>category_Games</th>\n",
       "      <th>...</th>\n",
       "      <th>category_Sports</th>\n",
       "      <th>category_Travel</th>\n",
       "      <th>rating_NC-17</th>\n",
       "      <th>rating_PG</th>\n",
       "      <th>rating_PG-13</th>\n",
       "      <th>rating_R</th>\n",
       "      <th>rental_duration_4</th>\n",
       "      <th>rental_duration_5</th>\n",
       "      <th>rental_duration_6</th>\n",
       "      <th>rental_duration_7</th>\n",
       "    </tr>\n",
       "  </thead>\n",
       "  <tbody>\n",
       "    <tr>\n",
       "      <th>1315</th>\n",
       "      <td>240</td>\n",
       "      <td>0</td>\n",
       "      <td>0</td>\n",
       "      <td>0</td>\n",
       "      <td>0</td>\n",
       "      <td>0</td>\n",
       "      <td>0</td>\n",
       "      <td>0</td>\n",
       "      <td>0</td>\n",
       "      <td>0</td>\n",
       "      <td>...</td>\n",
       "      <td>0</td>\n",
       "      <td>0</td>\n",
       "      <td>0</td>\n",
       "      <td>0</td>\n",
       "      <td>1</td>\n",
       "      <td>0</td>\n",
       "      <td>0</td>\n",
       "      <td>0</td>\n",
       "      <td>0</td>\n",
       "      <td>1</td>\n",
       "    </tr>\n",
       "    <tr>\n",
       "      <th>420</th>\n",
       "      <td>265</td>\n",
       "      <td>0</td>\n",
       "      <td>0</td>\n",
       "      <td>0</td>\n",
       "      <td>1</td>\n",
       "      <td>0</td>\n",
       "      <td>0</td>\n",
       "      <td>0</td>\n",
       "      <td>0</td>\n",
       "      <td>0</td>\n",
       "      <td>...</td>\n",
       "      <td>0</td>\n",
       "      <td>0</td>\n",
       "      <td>0</td>\n",
       "      <td>1</td>\n",
       "      <td>0</td>\n",
       "      <td>0</td>\n",
       "      <td>0</td>\n",
       "      <td>1</td>\n",
       "      <td>0</td>\n",
       "      <td>0</td>\n",
       "    </tr>\n",
       "    <tr>\n",
       "      <th>1070</th>\n",
       "      <td>665</td>\n",
       "      <td>0</td>\n",
       "      <td>0</td>\n",
       "      <td>0</td>\n",
       "      <td>0</td>\n",
       "      <td>0</td>\n",
       "      <td>0</td>\n",
       "      <td>0</td>\n",
       "      <td>0</td>\n",
       "      <td>0</td>\n",
       "      <td>...</td>\n",
       "      <td>0</td>\n",
       "      <td>0</td>\n",
       "      <td>0</td>\n",
       "      <td>1</td>\n",
       "      <td>0</td>\n",
       "      <td>0</td>\n",
       "      <td>1</td>\n",
       "      <td>0</td>\n",
       "      <td>0</td>\n",
       "      <td>0</td>\n",
       "    </tr>\n",
       "    <tr>\n",
       "      <th>1198</th>\n",
       "      <td>77</td>\n",
       "      <td>0</td>\n",
       "      <td>0</td>\n",
       "      <td>0</td>\n",
       "      <td>0</td>\n",
       "      <td>0</td>\n",
       "      <td>0</td>\n",
       "      <td>0</td>\n",
       "      <td>0</td>\n",
       "      <td>0</td>\n",
       "      <td>...</td>\n",
       "      <td>0</td>\n",
       "      <td>0</td>\n",
       "      <td>0</td>\n",
       "      <td>0</td>\n",
       "      <td>0</td>\n",
       "      <td>0</td>\n",
       "      <td>0</td>\n",
       "      <td>1</td>\n",
       "      <td>0</td>\n",
       "      <td>0</td>\n",
       "    </tr>\n",
       "    <tr>\n",
       "      <th>219</th>\n",
       "      <td>68</td>\n",
       "      <td>0</td>\n",
       "      <td>1</td>\n",
       "      <td>0</td>\n",
       "      <td>0</td>\n",
       "      <td>0</td>\n",
       "      <td>0</td>\n",
       "      <td>0</td>\n",
       "      <td>0</td>\n",
       "      <td>0</td>\n",
       "      <td>...</td>\n",
       "      <td>0</td>\n",
       "      <td>0</td>\n",
       "      <td>1</td>\n",
       "      <td>0</td>\n",
       "      <td>0</td>\n",
       "      <td>0</td>\n",
       "      <td>0</td>\n",
       "      <td>1</td>\n",
       "      <td>0</td>\n",
       "      <td>0</td>\n",
       "    </tr>\n",
       "  </tbody>\n",
       "</table>\n",
       "<p>5 rows × 24 columns</p>\n",
       "</div>"
      ],
      "text/plain": [
       "     film_id  category_Animation  category_Children  category_Classics  \\\n",
       "1315     240                   0                  0                  0   \n",
       "420      265                   0                  0                  0   \n",
       "1070     665                   0                  0                  0   \n",
       "1198      77                   0                  0                  0   \n",
       "219       68                   0                  1                  0   \n",
       "\n",
       "      category_Comedy  category_Documentary  category_Drama  category_Family  \\\n",
       "1315                0                     0               0                0   \n",
       "420                 1                     0               0                0   \n",
       "1070                0                     0               0                0   \n",
       "1198                0                     0               0                0   \n",
       "219                 0                     0               0                0   \n",
       "\n",
       "      category_Foreign  category_Games  ...  category_Sports  category_Travel  \\\n",
       "1315                 0               0  ...                0                0   \n",
       "420                  0               0  ...                0                0   \n",
       "1070                 0               0  ...                0                0   \n",
       "1198                 0               0  ...                0                0   \n",
       "219                  0               0  ...                0                0   \n",
       "\n",
       "      rating_NC-17  rating_PG  rating_PG-13  rating_R  rental_duration_4  \\\n",
       "1315             0          0             1         0                  0   \n",
       "420              0          1             0         0                  0   \n",
       "1070             0          1             0         0                  1   \n",
       "1198             0          0             0         0                  0   \n",
       "219              1          0             0         0                  0   \n",
       "\n",
       "      rental_duration_5  rental_duration_6  rental_duration_7  \n",
       "1315                  0                  0                  1  \n",
       "420                   1                  0                  0  \n",
       "1070                  0                  0                  0  \n",
       "1198                  1                  0                  0  \n",
       "219                   1                  0                  0  \n",
       "\n",
       "[5 rows x 24 columns]"
      ]
     },
     "execution_count": 334,
     "metadata": {},
     "output_type": "execute_result"
    }
   ],
   "source": [
    "# for categoricals\n",
    "X_test_categorical = X_test.select_dtypes(include = np.object)\n",
    "X_test_cat = pd.get_dummies(X_test_categorical, \n",
    "                            columns=['category', 'rating','rental_duration'],\n",
    "                            drop_first=True)\n",
    "# verify that dummies columns are in the same order and that the same column was dropped\n",
    "display(list(zip(list(X_train_cat.columns),list(X_test_cat.columns))))\n",
    "# not needed if you treat each dataframe with one_hot_encoder and save the encode (and the column names)\n",
    "\n",
    "X_test_cat.head()"
   ]
  },
  {
   "cell_type": "code",
   "execution_count": 335,
   "metadata": {},
   "outputs": [],
   "source": [
    "X_test_transformed = np.concatenate([X_test_norm, X_test_cat], axis=1)"
   ]
  },
  {
   "cell_type": "code",
   "execution_count": 336,
   "metadata": {},
   "outputs": [
    {
     "data": {
      "text/plain": [
       "0.9716088328075709"
      ]
     },
     "execution_count": 336,
     "metadata": {},
     "output_type": "execute_result"
    }
   ],
   "source": [
    "# Now we can make predictions on the test set:\n",
    "predictions = classification.predict(X_test_transformed)\n",
    "classification.score(X_test_transformed, y_test)"
   ]
  },
  {
   "cell_type": "code",
   "execution_count": 337,
   "metadata": {},
   "outputs": [
    {
     "name": "stdout",
     "output_type": "stream",
     "text": [
      "False    200\n",
      "True     117\n",
      "Name: test, dtype: int64\n"
     ]
    }
   ],
   "source": [
    "print(y_test.value_counts())\n",
    "# As you would notice here, there is a huge imbalance in the data among the different classes. \n",
    "# We will talk more about imbalance and how to resolve it later (tomorrow)\n"
   ]
  },
  {
   "cell_type": "code",
   "execution_count": 338,
   "metadata": {},
   "outputs": [
    {
     "data": {
      "text/plain": [
       "False    191\n",
       "True     126\n",
       "dtype: int64"
      ]
     },
     "execution_count": 338,
     "metadata": {},
     "output_type": "execute_result"
    }
   ],
   "source": [
    "pd.Series(predictions).value_counts()\n",
    "# This shows that the disparity in the numbers are amplified by the model"
   ]
  },
  {
   "cell_type": "code",
   "execution_count": 339,
   "metadata": {},
   "outputs": [
    {
     "data": {
      "text/plain": [
       "array([[191,   9],\n",
       "       [  0, 117]])"
      ]
     },
     "execution_count": 339,
     "metadata": {},
     "output_type": "execute_result"
    }
   ],
   "source": [
    "from sklearn.metrics import confusion_matrix\n",
    "confusion_matrix(y_test, predictions)"
   ]
  },
  {
   "cell_type": "code",
   "execution_count": 340,
   "metadata": {},
   "outputs": [
    {
     "data": {
      "text/plain": [
       "0.4952681388012618"
      ]
     },
     "execution_count": 340,
     "metadata": {},
     "output_type": "execute_result"
    }
   ],
   "source": [
    "# bonus: KNN classifier: look at nearest neighbours and use the majority to determine class\n",
    "from sklearn import neighbors\n",
    "clf = neighbors.KNeighborsClassifier(n_neighbors=5, weights='uniform')\n",
    "clf.fit(X_train_transformed, y_train)\n",
    "predictions_clf = clf.predict(X_test_transformed)\n",
    "clf.score(X_test_transformed, y_test)"
   ]
  },
  {
   "cell_type": "code",
   "execution_count": 347,
   "metadata": {},
   "outputs": [
    {
     "data": {
      "text/plain": [
       "array([[191,   9],\n",
       "       [  0, 117]])"
      ]
     },
     "execution_count": 347,
     "metadata": {},
     "output_type": "execute_result"
    }
   ],
   "source": [
    "from sklearn.metrics import confusion_matrix\n",
    "confusion_matrix(y_test, predictions)"
   ]
  },
  {
   "cell_type": "code",
   "execution_count": null,
   "metadata": {},
   "outputs": [],
   "source": [
    "#rating - one hot encode\n",
    "#DAYS rented. \n"
   ]
  }
 ],
 "metadata": {
  "kernelspec": {
   "display_name": "Python 3",
   "language": "python",
   "name": "python3"
  },
  "language_info": {
   "codemirror_mode": {
    "name": "ipython",
    "version": 3
   },
   "file_extension": ".py",
   "mimetype": "text/x-python",
   "name": "python",
   "nbconvert_exporter": "python",
   "pygments_lexer": "ipython3",
   "version": "3.8.5"
  }
 },
 "nbformat": 4,
 "nbformat_minor": 5
}
